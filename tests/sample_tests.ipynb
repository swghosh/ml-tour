{
 "cells": [
  {
   "cell_type": "code",
   "execution_count": 1,
   "metadata": {},
   "outputs": [
    {
     "name": "stdout",
     "output_type": "stream",
     "text": [
      "running install\n",
      "running bdist_egg\n",
      "running egg_info\n",
      "creating ml_tour.egg-info\n",
      "writing ml_tour.egg-info/PKG-INFO\n",
      "writing dependency_links to ml_tour.egg-info/dependency_links.txt\n",
      "writing top-level names to ml_tour.egg-info/top_level.txt\n",
      "writing manifest file 'ml_tour.egg-info/SOURCES.txt'\n",
      "reading manifest file 'ml_tour.egg-info/SOURCES.txt'\n",
      "writing manifest file 'ml_tour.egg-info/SOURCES.txt'\n",
      "installing library code to build/bdist.macosx-10.15-x86_64/egg\n",
      "running install_lib\n",
      "running build_py\n",
      "creating build\n",
      "creating build/lib\n",
      "creating build/lib/ml_tour\n",
      "copying ml_tour/__init__.py -> build/lib/ml_tour\n",
      "copying ml_tour/kmeans.py -> build/lib/ml_tour\n",
      "copying ml_tour/pca.py -> build/lib/ml_tour\n",
      "copying ml_tour/helpers.py -> build/lib/ml_tour\n",
      "creating build/bdist.macosx-10.15-x86_64\n",
      "creating build/bdist.macosx-10.15-x86_64/egg\n",
      "creating build/bdist.macosx-10.15-x86_64/egg/ml_tour\n",
      "copying build/lib/ml_tour/__init__.py -> build/bdist.macosx-10.15-x86_64/egg/ml_tour\n",
      "copying build/lib/ml_tour/kmeans.py -> build/bdist.macosx-10.15-x86_64/egg/ml_tour\n",
      "copying build/lib/ml_tour/pca.py -> build/bdist.macosx-10.15-x86_64/egg/ml_tour\n",
      "copying build/lib/ml_tour/helpers.py -> build/bdist.macosx-10.15-x86_64/egg/ml_tour\n",
      "byte-compiling build/bdist.macosx-10.15-x86_64/egg/ml_tour/__init__.py to __init__.cpython-37.pyc\n",
      "byte-compiling build/bdist.macosx-10.15-x86_64/egg/ml_tour/kmeans.py to kmeans.cpython-37.pyc\n",
      "byte-compiling build/bdist.macosx-10.15-x86_64/egg/ml_tour/pca.py to pca.cpython-37.pyc\n",
      "byte-compiling build/bdist.macosx-10.15-x86_64/egg/ml_tour/helpers.py to helpers.cpython-37.pyc\n",
      "creating build/bdist.macosx-10.15-x86_64/egg/EGG-INFO\n",
      "copying ml_tour.egg-info/PKG-INFO -> build/bdist.macosx-10.15-x86_64/egg/EGG-INFO\n",
      "copying ml_tour.egg-info/SOURCES.txt -> build/bdist.macosx-10.15-x86_64/egg/EGG-INFO\n",
      "copying ml_tour.egg-info/dependency_links.txt -> build/bdist.macosx-10.15-x86_64/egg/EGG-INFO\n",
      "copying ml_tour.egg-info/top_level.txt -> build/bdist.macosx-10.15-x86_64/egg/EGG-INFO\n",
      "zip_safe flag not set; analyzing archive contents...\n",
      "creating dist\n",
      "creating 'dist/ml_tour-0.0.1-py3.7.egg' and adding 'build/bdist.macosx-10.15-x86_64/egg' to it\n",
      "removing 'build/bdist.macosx-10.15-x86_64/egg' (and everything under it)\n",
      "Processing ml_tour-0.0.1-py3.7.egg\n",
      "Removing /Users/swg/opt/homebrew/lib/python3.7/site-packages/ml_tour-0.0.1-py3.7.egg\n",
      "Copying ml_tour-0.0.1-py3.7.egg to /Users/swg/opt/homebrew/lib/python3.7/site-packages\n",
      "ml-tour 0.0.1 is already the active version in easy-install.pth\n",
      "\n",
      "Installed /Users/swg/opt/homebrew/lib/python3.7/site-packages/ml_tour-0.0.1-py3.7.egg\n",
      "Processing dependencies for ml-tour==0.0.1\n",
      "Finished processing dependencies for ml-tour==0.0.1\n"
     ]
    }
   ],
   "source": [
    "!cd .. && rm -rf build dist ml_tour.egg-info ml_tour/__pycache__\n",
    "!cd .. && python3 setup.py install"
   ]
  },
  {
   "cell_type": "markdown",
   "metadata": {},
   "source": [
    "# Prinicipal Component Analysis"
   ]
  },
  {
   "cell_type": "code",
   "execution_count": 2,
   "metadata": {},
   "outputs": [
    {
     "ename": "error",
     "evalue": "Error -5 while decompressing data: incomplete or truncated stream",
     "output_type": "error",
     "traceback": [
      "\u001b[0;31m---------------------------------------------------------------------------\u001b[0m",
      "\u001b[0;31merror\u001b[0m                                     Traceback (most recent call last)",
      "\u001b[0;32m<ipython-input-2-4f8fa408d692>\u001b[0m in \u001b[0;36m<module>\u001b[0;34m\u001b[0m\n\u001b[0;32m----> 1\u001b[0;31m \u001b[0;32mfrom\u001b[0m \u001b[0mml_tour\u001b[0m \u001b[0;32mimport\u001b[0m \u001b[0mpca\u001b[0m\u001b[0;34m\u001b[0m\u001b[0;34m\u001b[0m\u001b[0m\n\u001b[0m\u001b[1;32m      2\u001b[0m \u001b[0;32mimport\u001b[0m \u001b[0mnumpy\u001b[0m \u001b[0;32mas\u001b[0m \u001b[0mnp\u001b[0m\u001b[0;34m\u001b[0m\u001b[0;34m\u001b[0m\u001b[0m\n",
      "\u001b[0;32m~/opt/homebrew/Cellar/python/3.7.7/Frameworks/Python.framework/Versions/3.7/lib/python3.7/importlib/_bootstrap.py\u001b[0m in \u001b[0;36m_find_and_load\u001b[0;34m(name, import_)\u001b[0m\n",
      "\u001b[0;32m~/opt/homebrew/Cellar/python/3.7.7/Frameworks/Python.framework/Versions/3.7/lib/python3.7/importlib/_bootstrap.py\u001b[0m in \u001b[0;36m_find_and_load_unlocked\u001b[0;34m(name, import_)\u001b[0m\n",
      "\u001b[0;32m~/opt/homebrew/Cellar/python/3.7.7/Frameworks/Python.framework/Versions/3.7/lib/python3.7/importlib/_bootstrap.py\u001b[0m in \u001b[0;36m_load_unlocked\u001b[0;34m(spec)\u001b[0m\n",
      "\u001b[0;32m~/opt/homebrew/Cellar/python/3.7.7/Frameworks/Python.framework/Versions/3.7/lib/python3.7/importlib/_bootstrap.py\u001b[0m in \u001b[0;36m_load_backward_compatible\u001b[0;34m(spec)\u001b[0m\n",
      "\u001b[0;32m~/opt/homebrew/lib/python3.7/site-packages/ml_tour-0.0.1-py3.7.egg/ml_tour/__init__.py\u001b[0m in \u001b[0;36m<module>\u001b[0;34m\u001b[0m\n\u001b[1;32m      1\u001b[0m \u001b[0mname\u001b[0m\u001b[0;34m=\u001b[0m\u001b[0;34m\"ml_tour\"\u001b[0m\u001b[0;34m\u001b[0m\u001b[0;34m\u001b[0m\u001b[0m\n\u001b[1;32m      2\u001b[0m \u001b[0;34m\u001b[0m\u001b[0m\n\u001b[0;32m----> 3\u001b[0;31m \u001b[0;32mfrom\u001b[0m \u001b[0;34m.\u001b[0m \u001b[0;32mimport\u001b[0m \u001b[0mkmeans\u001b[0m\u001b[0;34m,\u001b[0m \u001b[0mpca\u001b[0m\u001b[0;34m\u001b[0m\u001b[0;34m\u001b[0m\u001b[0m\n\u001b[0m",
      "\u001b[0;32m~/opt/homebrew/Cellar/python/3.7.7/Frameworks/Python.framework/Versions/3.7/lib/python3.7/importlib/_bootstrap.py\u001b[0m in \u001b[0;36m_find_and_load\u001b[0;34m(name, import_)\u001b[0m\n",
      "\u001b[0;32m~/opt/homebrew/Cellar/python/3.7.7/Frameworks/Python.framework/Versions/3.7/lib/python3.7/importlib/_bootstrap.py\u001b[0m in \u001b[0;36m_find_and_load_unlocked\u001b[0;34m(name, import_)\u001b[0m\n",
      "\u001b[0;32m~/opt/homebrew/Cellar/python/3.7.7/Frameworks/Python.framework/Versions/3.7/lib/python3.7/importlib/_bootstrap.py\u001b[0m in \u001b[0;36m_find_spec\u001b[0;34m(name, path, target)\u001b[0m\n",
      "\u001b[0;32m~/opt/homebrew/Cellar/python/3.7.7/Frameworks/Python.framework/Versions/3.7/lib/python3.7/importlib/_bootstrap_external.py\u001b[0m in \u001b[0;36mfind_spec\u001b[0;34m(cls, fullname, path, target)\u001b[0m\n",
      "\u001b[0;32m~/opt/homebrew/Cellar/python/3.7.7/Frameworks/Python.framework/Versions/3.7/lib/python3.7/importlib/_bootstrap_external.py\u001b[0m in \u001b[0;36m_get_spec\u001b[0;34m(cls, fullname, path, target)\u001b[0m\n",
      "\u001b[0;32m~/opt/homebrew/Cellar/python/3.7.7/Frameworks/Python.framework/Versions/3.7/lib/python3.7/importlib/_bootstrap_external.py\u001b[0m in \u001b[0;36m_legacy_get_spec\u001b[0;34m(cls, fullname, finder)\u001b[0m\n",
      "\u001b[0;32m~/opt/homebrew/Cellar/python/3.7.7/Frameworks/Python.framework/Versions/3.7/lib/python3.7/importlib/_bootstrap.py\u001b[0m in \u001b[0;36mspec_from_loader\u001b[0;34m(name, loader, origin, is_package)\u001b[0m\n",
      "\u001b[0;32m~/opt/homebrew/Cellar/python/3.7.7/Frameworks/Python.framework/Versions/3.7/lib/python3.7/importlib/_bootstrap_external.py\u001b[0m in \u001b[0;36mspec_from_file_location\u001b[0;34m(name, location, loader, submodule_search_locations)\u001b[0m\n",
      "\u001b[0;31merror\u001b[0m: Error -5 while decompressing data: incomplete or truncated stream"
     ]
    }
   ],
   "source": [
    "from ml_tour import pca\n",
    "import numpy as np"
   ]
  },
  {
   "cell_type": "code",
   "execution_count": null,
   "metadata": {},
   "outputs": [],
   "source": [
    "X = np.random.randint(0, 256, [15, 100])\n",
    "X = X.astype(np.float32)"
   ]
  },
  {
   "cell_type": "code",
   "execution_count": null,
   "metadata": {},
   "outputs": [],
   "source": [
    "Uk, mean, stdev = pca.train_pca(X, k=10)\n",
    "Uk.shape"
   ]
  },
  {
   "cell_type": "code",
   "execution_count": null,
   "metadata": {},
   "outputs": [],
   "source": [
    "X_transformed = pca.transform_pca(X, mean, stdev, Uk)\n",
    "X_transformed.shape"
   ]
  },
  {
   "cell_type": "markdown",
   "metadata": {},
   "source": [
    "# k-Means Clustering"
   ]
  },
  {
   "cell_type": "code",
   "execution_count": null,
   "metadata": {},
   "outputs": [],
   "source": [
    "from ml_tour import kmeans\n",
    "from sklearn.datasets import make_blobs"
   ]
  },
  {
   "cell_type": "code",
   "execution_count": null,
   "metadata": {},
   "outputs": [],
   "source": [
    "X, _ = make_blobs(n_samples=100, random_state=42)"
   ]
  },
  {
   "cell_type": "code",
   "execution_count": null,
   "metadata": {},
   "outputs": [],
   "source": [
    "from matplotlib import pyplot as plt"
   ]
  },
  {
   "cell_type": "code",
   "execution_count": null,
   "metadata": {},
   "outputs": [],
   "source": [
    "plt.figure()\n",
    "plt.scatter(X[:, 0], X[:, 1], s=50)\n",
    "plt.show()"
   ]
  },
  {
   "cell_type": "code",
   "execution_count": null,
   "metadata": {},
   "outputs": [],
   "source": [
    "kmeans = kmeans.KMeans(k=3)\n",
    "clusters = kmeans.fit_predict(X)"
   ]
  },
  {
   "cell_type": "code",
   "execution_count": null,
   "metadata": {},
   "outputs": [],
   "source": [
    "plt.scatter(X[:, 0], X[:, 1], s=50, c=clusters)\n",
    "plt.plot(kmeans.centroids[:, 0], kmeans.centroids[:, 1], 'r*', markersize=10)\n",
    "plt.xlabel('x1')\n",
    "plt.ylabel('x2')\n",
    "plt.show()"
   ]
  },
  {
   "cell_type": "code",
   "execution_count": null,
   "metadata": {},
   "outputs": [],
   "source": []
  }
 ],
 "metadata": {
  "kernelspec": {
   "display_name": "Python 3",
   "language": "python",
   "name": "python3"
  },
  "language_info": {
   "codemirror_mode": {
    "name": "ipython",
    "version": 3
   },
   "file_extension": ".py",
   "mimetype": "text/x-python",
   "name": "python",
   "nbconvert_exporter": "python",
   "pygments_lexer": "ipython3",
   "version": "3.7.7"
  }
 },
 "nbformat": 4,
 "nbformat_minor": 4
}
